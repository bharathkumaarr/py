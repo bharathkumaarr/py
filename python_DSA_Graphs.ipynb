{
  "nbformat": 4,
  "nbformat_minor": 0,
  "metadata": {
    "colab": {
      "provenance": [],
      "authorship_tag": "ABX9TyNxZjMrBBBBV3+mr5MdRw5X",
      "include_colab_link": true
    },
    "kernelspec": {
      "name": "python3",
      "display_name": "Python 3"
    },
    "language_info": {
      "name": "python"
    }
  },
  "cells": [
    {
      "cell_type": "markdown",
      "metadata": {
        "id": "view-in-github",
        "colab_type": "text"
      },
      "source": [
        "<a href=\"https://colab.research.google.com/github/bharathkumaarr/py/blob/master/python_DSA_Graphs.ipynb\" target=\"_parent\"><img src=\"https://colab.research.google.com/assets/colab-badge.svg\" alt=\"Open In Colab\"/></a>"
      ]
    },
    {
      "cell_type": "code",
      "execution_count": null,
      "metadata": {
        "colab": {
          "base_uri": "https://localhost:8080/"
        },
        "id": "qJBBiE2AaMqa",
        "outputId": "55267da7-935d-40da-bd7a-070769f85e30"
      },
      "outputs": [
        {
          "output_type": "execute_result",
          "data": {
            "text/plain": [
              "[[0, 1], [1, 2], [0, 3], [3, 4], [3, 6], [3, 7], [4, 2], [4, 5], [5, 2]]"
            ]
          },
          "metadata": {},
          "execution_count": 9
        }
      ],
      "source": [
        "#Array of edges (directed)\n",
        "n = 8\n",
        "a = [[0,1],[1,2],[0,3],[3,4],[3,6],[3,7],[4,2],[4,5],[5,2]] #array of edges\n",
        "a"
      ]
    },
    {
      "cell_type": "markdown",
      "source": [
        "convert arr of edges to adjacency MATRIX"
      ],
      "metadata": {
        "id": "nKpAm533a2gb"
      }
    },
    {
      "cell_type": "code",
      "source": [
        "m=[]\n",
        "for i in range(n):\n",
        "  m.append([0]*n)\n",
        "for u,v in a:\n",
        "  m[u][v]=1\n",
        "  #for undirected\n",
        "  #m[v][u]=1\n",
        "m"
      ],
      "metadata": {
        "colab": {
          "base_uri": "https://localhost:8080/"
        },
        "id": "oCicdO9navt1",
        "outputId": "a25cf300-5f39-42b1-cdd6-9563570352ad"
      },
      "execution_count": null,
      "outputs": [
        {
          "output_type": "execute_result",
          "data": {
            "text/plain": [
              "[[0, 1, 0, 1, 0, 0, 0, 0],\n",
              " [0, 0, 1, 0, 0, 0, 0, 0],\n",
              " [0, 0, 0, 0, 0, 0, 0, 0],\n",
              " [0, 0, 0, 0, 1, 0, 1, 1],\n",
              " [0, 0, 1, 0, 0, 1, 0, 0],\n",
              " [0, 0, 1, 0, 0, 0, 0, 0],\n",
              " [0, 0, 0, 0, 0, 0, 0, 0],\n",
              " [0, 0, 0, 0, 0, 0, 0, 0]]"
            ]
          },
          "metadata": {},
          "execution_count": 10
        }
      ]
    },
    {
      "cell_type": "markdown",
      "source": [
        "convert arr of edges to adjacency LIST"
      ],
      "metadata": {
        "id": "KtA4D2NScP4O"
      }
    },
    {
      "cell_type": "code",
      "source": [
        "from collections import defaultdict\n",
        "\n",
        "d= defaultdict(list)\n",
        "\n",
        "for u, v in a:\n",
        "  d[u].append(v)\n",
        "\n",
        "  #for undirected\n",
        "  #d[v].append(u)\n",
        "d"
      ],
      "metadata": {
        "colab": {
          "base_uri": "https://localhost:8080/"
        },
        "id": "k8E9gEOybDsk",
        "outputId": "e37a3504-f163-4da1-9a43-4b0d90896afa"
      },
      "execution_count": null,
      "outputs": [
        {
          "output_type": "execute_result",
          "data": {
            "text/plain": [
              "defaultdict(list, {0: [1, 3], 1: [2], 3: [4, 6, 7], 4: [2, 5], 5: [2]})"
            ]
          },
          "metadata": {},
          "execution_count": 11
        }
      ]
    },
    {
      "cell_type": "code",
      "source": [
        "m[3]"
      ],
      "metadata": {
        "colab": {
          "base_uri": "https://localhost:8080/"
        },
        "id": "-OyRP49QcyVA",
        "outputId": "6cb028cc-0f91-4bb7-a9ea-1510c3623899"
      },
      "execution_count": null,
      "outputs": [
        {
          "output_type": "execute_result",
          "data": {
            "text/plain": [
              "[0, 0, 0, 0, 1, 0, 1, 1]"
            ]
          },
          "metadata": {},
          "execution_count": 12
        }
      ]
    },
    {
      "cell_type": "code",
      "source": [
        "d[3]"
      ],
      "metadata": {
        "colab": {
          "base_uri": "https://localhost:8080/"
        },
        "id": "SvsmJKLec_Gr",
        "outputId": "cc40ea04-a674-4334-968a-2c7162b7f75f"
      },
      "execution_count": null,
      "outputs": [
        {
          "output_type": "execute_result",
          "data": {
            "text/plain": [
              "[4, 6, 7]"
            ]
          },
          "metadata": {},
          "execution_count": 13
        }
      ]
    },
    {
      "cell_type": "markdown",
      "source": [],
      "metadata": {
        "id": "l8TlR96RdgAG"
      }
    },
    {
      "cell_type": "markdown",
      "source": [
        "# DFS: recursion\n",
        "O(V+E) where v is number vertex and E is number edges"
      ],
      "metadata": {
        "id": "nNgYROScdcsZ"
      }
    },
    {
      "cell_type": "code",
      "source": [
        "def dfs_recursive(node):\n",
        "  print(node) #processing\n",
        "  for nei_node in d[node]:\n",
        "    if nei_node not in seen:\n",
        "      seen.add(nei_node)\n",
        "      dfs_recursive(nei_node)\n",
        "\n",
        "\n",
        "\n",
        "source = 0\n",
        "\n",
        "seen=set()\n",
        "\n",
        "seen.add(source)\n",
        "dfs_recursive(source)"
      ],
      "metadata": {
        "colab": {
          "base_uri": "https://localhost:8080/"
        },
        "id": "Q5WgLNDxdA_-",
        "outputId": "0c68b69e-5294-4759-c5d5-70274669d13f"
      },
      "execution_count": null,
      "outputs": [
        {
          "output_type": "stream",
          "name": "stdout",
          "text": [
            "0\n",
            "1\n",
            "2\n",
            "3\n",
            "4\n",
            "5\n",
            "6\n",
            "7\n"
          ]
        }
      ]
    },
    {
      "cell_type": "markdown",
      "source": [
        "# DFS: Iterative with stack\n",
        "O(V + E)"
      ],
      "metadata": {
        "id": "TBrbpkdqepic"
      }
    },
    {
      "cell_type": "code",
      "source": [
        "source = 0\n",
        "seen = set()\n",
        "seen.add(source)\n",
        "stack=[source]\n",
        "while stack:\n",
        "  node=stack.pop()\n",
        "  print(node)\n",
        "\n",
        "  for nei_node in d[node]:\n",
        "    if nei_node not in seen:\n",
        "      seen.add(nei_node)\n",
        "      stack.append(nei_node)"
      ],
      "metadata": {
        "colab": {
          "base_uri": "https://localhost:8080/"
        },
        "id": "YQp5_xr9enID",
        "outputId": "74db0c6c-66b4-4bb0-8480-f818e5f90628"
      },
      "execution_count": null,
      "outputs": [
        {
          "output_type": "stream",
          "name": "stdout",
          "text": [
            "0\n",
            "3\n",
            "7\n",
            "6\n",
            "4\n",
            "5\n",
            "2\n",
            "1\n"
          ]
        }
      ]
    },
    {
      "cell_type": "markdown",
      "source": [
        "# BFS: queue\n",
        "O(V + E)\n"
      ],
      "metadata": {
        "id": "wVzF9BCrfP7q"
      }
    },
    {
      "cell_type": "code",
      "source": [
        "source = 0\n",
        "\n",
        "from collections import deque\n",
        "\n",
        "seen = set()\n",
        "seen.add(source)\n",
        "\n",
        "q = deque()\n",
        "q.append(source)\n",
        "\n",
        "\n",
        "while q:\n",
        "  node=q.popleft()\n",
        "  print(node)\n",
        "\n",
        "  for nei_node in d[node]:\n",
        "    if nei_node not in seen:\n",
        "      seen.add(nei_node)\n",
        "      q.append(nei_node)"
      ],
      "metadata": {
        "colab": {
          "base_uri": "https://localhost:8080/"
        },
        "id": "FKfDH_TpfIbJ",
        "outputId": "65382593-df2a-4776-8de9-bfe43c9f56db"
      },
      "execution_count": null,
      "outputs": [
        {
          "output_type": "stream",
          "name": "stdout",
          "text": [
            "0\n",
            "1\n",
            "3\n",
            "2\n",
            "4\n",
            "6\n",
            "7\n",
            "5\n"
          ]
        }
      ]
    },
    {
      "cell_type": "markdown",
      "source": [
        "# Graphs stored as Class"
      ],
      "metadata": {
        "id": "hTZ4998wgJol"
      }
    },
    {
      "cell_type": "code",
      "source": [
        "class Node:\n",
        "  def _init__(self,value):\n",
        "    self.value = value\n",
        "    self.neighbors = []\n",
        "\n",
        "  def __str__(self):\n",
        "    return f\"Node({self.value})\"\n",
        "\n",
        "  def display(self):\n",
        "    connections = [node.value for node in self.neighbors]\n",
        "    print(f\"{self.value} is connected to {connections}\")\n",
        "\n",
        "A = Node('A')\n",
        "B = Node('B')\n",
        "C = Node('C')\n",
        "D = Node('D')\n",
        "\n",
        "A.neighbors.append(B)\n",
        "B.neighbors.append(C)\n",
        "C.neighbors.append(D)\n",
        "D.neighbors.append(C)\n"
      ],
      "metadata": {
        "colab": {
          "base_uri": "https://localhost:8080/",
          "height": 211
        },
        "id": "ionEEPcXf4He",
        "outputId": "a0426418-804f-40f1-b09d-3f73a5208fb2"
      },
      "execution_count": null,
      "outputs": [
        {
          "output_type": "error",
          "ename": "TypeError",
          "evalue": "Node() takes no arguments",
          "traceback": [
            "\u001b[0;31m---------------------------------------------------------------------------\u001b[0m",
            "\u001b[0;31mTypeError\u001b[0m                                 Traceback (most recent call last)",
            "\u001b[0;32m<ipython-input-20-42bf9aa876ff>\u001b[0m in \u001b[0;36m<cell line: 13>\u001b[0;34m()\u001b[0m\n\u001b[1;32m     11\u001b[0m     \u001b[0mprint\u001b[0m\u001b[0;34m(\u001b[0m\u001b[0;34mf\"{self.value} is connected to {connections}\"\u001b[0m\u001b[0;34m)\u001b[0m\u001b[0;34m\u001b[0m\u001b[0;34m\u001b[0m\u001b[0m\n\u001b[1;32m     12\u001b[0m \u001b[0;34m\u001b[0m\u001b[0m\n\u001b[0;32m---> 13\u001b[0;31m \u001b[0mA\u001b[0m \u001b[0;34m=\u001b[0m \u001b[0mNode\u001b[0m\u001b[0;34m(\u001b[0m\u001b[0;34m'A'\u001b[0m\u001b[0;34m)\u001b[0m\u001b[0;34m\u001b[0m\u001b[0;34m\u001b[0m\u001b[0m\n\u001b[0m\u001b[1;32m     14\u001b[0m \u001b[0mB\u001b[0m \u001b[0;34m=\u001b[0m \u001b[0mNode\u001b[0m\u001b[0;34m(\u001b[0m\u001b[0;34m'B'\u001b[0m\u001b[0;34m)\u001b[0m\u001b[0;34m\u001b[0m\u001b[0;34m\u001b[0m\u001b[0m\n\u001b[1;32m     15\u001b[0m \u001b[0mC\u001b[0m \u001b[0;34m=\u001b[0m \u001b[0mNode\u001b[0m\u001b[0;34m(\u001b[0m\u001b[0;34m'C'\u001b[0m\u001b[0;34m)\u001b[0m\u001b[0;34m\u001b[0m\u001b[0;34m\u001b[0m\u001b[0m\n",
            "\u001b[0;31mTypeError\u001b[0m: Node() takes no arguments"
          ]
        }
      ]
    },
    {
      "cell_type": "code",
      "source": [],
      "metadata": {
        "id": "RP-O-WKghFna"
      },
      "execution_count": null,
      "outputs": []
    }
  ]
}